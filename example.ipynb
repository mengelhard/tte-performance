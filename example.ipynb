{
 "cells": [
  {
   "cell_type": "code",
   "execution_count": 1,
   "id": "eb31e82d",
   "metadata": {},
   "outputs": [],
   "source": [
    "import numpy as np\n",
    "import pandas as pd\n",
    "import matplotlib.pyplot as plt"
   ]
  },
  {
   "cell_type": "code",
   "execution_count": 2,
   "id": "991a34f5",
   "metadata": {},
   "outputs": [
    {
     "data": {
      "text/html": [
       "<div>\n",
       "<style scoped>\n",
       "    .dataframe tbody tr th:only-of-type {\n",
       "        vertical-align: middle;\n",
       "    }\n",
       "\n",
       "    .dataframe tbody tr th {\n",
       "        vertical-align: top;\n",
       "    }\n",
       "\n",
       "    .dataframe thead th {\n",
       "        text-align: right;\n",
       "    }\n",
       "</style>\n",
       "<table border=\"1\" class=\"dataframe\">\n",
       "  <thead>\n",
       "    <tr style=\"text-align: right;\">\n",
       "      <th></th>\n",
       "      <th>age</th>\n",
       "      <th>death</th>\n",
       "      <th>slos</th>\n",
       "      <th>d.time</th>\n",
       "      <th>num.co</th>\n",
       "      <th>edu</th>\n",
       "      <th>scoma</th>\n",
       "      <th>charges</th>\n",
       "      <th>totcst</th>\n",
       "      <th>totmcst</th>\n",
       "      <th>...</th>\n",
       "      <th>race_asian</th>\n",
       "      <th>race_black</th>\n",
       "      <th>race_hispanic</th>\n",
       "      <th>race_other</th>\n",
       "      <th>race_white</th>\n",
       "      <th>race_nan</th>\n",
       "      <th>ca_metastatic</th>\n",
       "      <th>ca_no</th>\n",
       "      <th>ca_yes</th>\n",
       "      <th>ca_nan</th>\n",
       "    </tr>\n",
       "  </thead>\n",
       "  <tbody>\n",
       "    <tr>\n",
       "      <td>0</td>\n",
       "      <td>0.012772</td>\n",
       "      <td>0</td>\n",
       "      <td>5</td>\n",
       "      <td>2029</td>\n",
       "      <td>0</td>\n",
       "      <td>-0.253787</td>\n",
       "      <td>-0.489421</td>\n",
       "      <td>-0.487495</td>\n",
       "      <td>-0.337656</td>\n",
       "      <td>-0.274795</td>\n",
       "      <td>...</td>\n",
       "      <td>0</td>\n",
       "      <td>0</td>\n",
       "      <td>0</td>\n",
       "      <td>1</td>\n",
       "      <td>0</td>\n",
       "      <td>0</td>\n",
       "      <td>1</td>\n",
       "      <td>0</td>\n",
       "      <td>0</td>\n",
       "      <td>0</td>\n",
       "    </tr>\n",
       "    <tr>\n",
       "      <td>1</td>\n",
       "      <td>-0.148254</td>\n",
       "      <td>1</td>\n",
       "      <td>4</td>\n",
       "      <td>4</td>\n",
       "      <td>2</td>\n",
       "      <td>0.066259</td>\n",
       "      <td>1.296607</td>\n",
       "      <td>-0.244033</td>\n",
       "      <td>-0.337656</td>\n",
       "      <td>-0.274795</td>\n",
       "      <td>...</td>\n",
       "      <td>0</td>\n",
       "      <td>0</td>\n",
       "      <td>0</td>\n",
       "      <td>0</td>\n",
       "      <td>1</td>\n",
       "      <td>0</td>\n",
       "      <td>0</td>\n",
       "      <td>1</td>\n",
       "      <td>0</td>\n",
       "      <td>0</td>\n",
       "    </tr>\n",
       "    <tr>\n",
       "      <td>2</td>\n",
       "      <td>-0.635118</td>\n",
       "      <td>1</td>\n",
       "      <td>17</td>\n",
       "      <td>47</td>\n",
       "      <td>2</td>\n",
       "      <td>0.066259</td>\n",
       "      <td>-0.489421</td>\n",
       "      <td>-0.179211</td>\n",
       "      <td>-0.337656</td>\n",
       "      <td>-0.274795</td>\n",
       "      <td>...</td>\n",
       "      <td>0</td>\n",
       "      <td>0</td>\n",
       "      <td>0</td>\n",
       "      <td>0</td>\n",
       "      <td>1</td>\n",
       "      <td>0</td>\n",
       "      <td>0</td>\n",
       "      <td>1</td>\n",
       "      <td>0</td>\n",
       "      <td>0</td>\n",
       "    </tr>\n",
       "    <tr>\n",
       "      <td>3</td>\n",
       "      <td>-1.299617</td>\n",
       "      <td>1</td>\n",
       "      <td>3</td>\n",
       "      <td>133</td>\n",
       "      <td>2</td>\n",
       "      <td>-0.253787</td>\n",
       "      <td>-0.489421</td>\n",
       "      <td>-0.552730</td>\n",
       "      <td>-0.337656</td>\n",
       "      <td>-0.274795</td>\n",
       "      <td>...</td>\n",
       "      <td>0</td>\n",
       "      <td>0</td>\n",
       "      <td>0</td>\n",
       "      <td>0</td>\n",
       "      <td>1</td>\n",
       "      <td>0</td>\n",
       "      <td>1</td>\n",
       "      <td>0</td>\n",
       "      <td>0</td>\n",
       "      <td>0</td>\n",
       "    </tr>\n",
       "    <tr>\n",
       "      <td>4</td>\n",
       "      <td>1.105197</td>\n",
       "      <td>0</td>\n",
       "      <td>16</td>\n",
       "      <td>2029</td>\n",
       "      <td>1</td>\n",
       "      <td>0.066259</td>\n",
       "      <td>0.565959</td>\n",
       "      <td>-0.090466</td>\n",
       "      <td>-0.337656</td>\n",
       "      <td>-0.274795</td>\n",
       "      <td>...</td>\n",
       "      <td>0</td>\n",
       "      <td>0</td>\n",
       "      <td>0</td>\n",
       "      <td>0</td>\n",
       "      <td>1</td>\n",
       "      <td>0</td>\n",
       "      <td>0</td>\n",
       "      <td>1</td>\n",
       "      <td>0</td>\n",
       "      <td>0</td>\n",
       "    </tr>\n",
       "    <tr>\n",
       "      <td>...</td>\n",
       "      <td>...</td>\n",
       "      <td>...</td>\n",
       "      <td>...</td>\n",
       "      <td>...</td>\n",
       "      <td>...</td>\n",
       "      <td>...</td>\n",
       "      <td>...</td>\n",
       "      <td>...</td>\n",
       "      <td>...</td>\n",
       "      <td>...</td>\n",
       "      <td>...</td>\n",
       "      <td>...</td>\n",
       "      <td>...</td>\n",
       "      <td>...</td>\n",
       "      <td>...</td>\n",
       "      <td>...</td>\n",
       "      <td>...</td>\n",
       "      <td>...</td>\n",
       "      <td>...</td>\n",
       "      <td>...</td>\n",
       "      <td>...</td>\n",
       "    </tr>\n",
       "    <tr>\n",
       "      <td>9100</td>\n",
       "      <td>0.219459</td>\n",
       "      <td>0</td>\n",
       "      <td>23</td>\n",
       "      <td>350</td>\n",
       "      <td>1</td>\n",
       "      <td>-1.213925</td>\n",
       "      <td>-0.489421</td>\n",
       "      <td>-0.063517</td>\n",
       "      <td>0.116548</td>\n",
       "      <td>0.261135</td>\n",
       "      <td>...</td>\n",
       "      <td>0</td>\n",
       "      <td>0</td>\n",
       "      <td>0</td>\n",
       "      <td>0</td>\n",
       "      <td>1</td>\n",
       "      <td>0</td>\n",
       "      <td>0</td>\n",
       "      <td>1</td>\n",
       "      <td>0</td>\n",
       "      <td>0</td>\n",
       "    </tr>\n",
       "    <tr>\n",
       "      <td>9101</td>\n",
       "      <td>-0.480760</td>\n",
       "      <td>0</td>\n",
       "      <td>29</td>\n",
       "      <td>347</td>\n",
       "      <td>1</td>\n",
       "      <td>-0.253787</td>\n",
       "      <td>1.174832</td>\n",
       "      <td>-0.235378</td>\n",
       "      <td>-0.129578</td>\n",
       "      <td>-0.021128</td>\n",
       "      <td>...</td>\n",
       "      <td>0</td>\n",
       "      <td>0</td>\n",
       "      <td>0</td>\n",
       "      <td>0</td>\n",
       "      <td>1</td>\n",
       "      <td>0</td>\n",
       "      <td>0</td>\n",
       "      <td>1</td>\n",
       "      <td>0</td>\n",
       "      <td>0</td>\n",
       "    </tr>\n",
       "    <tr>\n",
       "      <td>9102</td>\n",
       "      <td>0.495786</td>\n",
       "      <td>0</td>\n",
       "      <td>8</td>\n",
       "      <td>346</td>\n",
       "      <td>1</td>\n",
       "      <td>0.066259</td>\n",
       "      <td>-0.489421</td>\n",
       "      <td>-0.125471</td>\n",
       "      <td>0.049816</td>\n",
       "      <td>0.235178</td>\n",
       "      <td>...</td>\n",
       "      <td>0</td>\n",
       "      <td>0</td>\n",
       "      <td>0</td>\n",
       "      <td>0</td>\n",
       "      <td>1</td>\n",
       "      <td>0</td>\n",
       "      <td>0</td>\n",
       "      <td>1</td>\n",
       "      <td>0</td>\n",
       "      <td>0</td>\n",
       "    </tr>\n",
       "    <tr>\n",
       "      <td>9103</td>\n",
       "      <td>-1.002381</td>\n",
       "      <td>1</td>\n",
       "      <td>7</td>\n",
       "      <td>7</td>\n",
       "      <td>1</td>\n",
       "      <td>0.386305</td>\n",
       "      <td>-0.489421</td>\n",
       "      <td>-0.008804</td>\n",
       "      <td>-0.337656</td>\n",
       "      <td>-0.274795</td>\n",
       "      <td>...</td>\n",
       "      <td>0</td>\n",
       "      <td>0</td>\n",
       "      <td>0</td>\n",
       "      <td>0</td>\n",
       "      <td>1</td>\n",
       "      <td>0</td>\n",
       "      <td>0</td>\n",
       "      <td>0</td>\n",
       "      <td>1</td>\n",
       "      <td>0</td>\n",
       "    </tr>\n",
       "    <tr>\n",
       "      <td>9104</td>\n",
       "      <td>1.211265</td>\n",
       "      <td>1</td>\n",
       "      <td>12</td>\n",
       "      <td>198</td>\n",
       "      <td>1</td>\n",
       "      <td>-1.213925</td>\n",
       "      <td>-0.489421</td>\n",
       "      <td>-0.429638</td>\n",
       "      <td>-0.425565</td>\n",
       "      <td>-0.305475</td>\n",
       "      <td>...</td>\n",
       "      <td>0</td>\n",
       "      <td>0</td>\n",
       "      <td>0</td>\n",
       "      <td>0</td>\n",
       "      <td>1</td>\n",
       "      <td>0</td>\n",
       "      <td>0</td>\n",
       "      <td>1</td>\n",
       "      <td>0</td>\n",
       "      <td>0</td>\n",
       "    </tr>\n",
       "  </tbody>\n",
       "</table>\n",
       "<p>9105 rows × 63 columns</p>\n",
       "</div>"
      ],
      "text/plain": [
       "           age  death  slos  d.time  num.co       edu     scoma   charges  \\\n",
       "0     0.012772      0     5    2029       0 -0.253787 -0.489421 -0.487495   \n",
       "1    -0.148254      1     4       4       2  0.066259  1.296607 -0.244033   \n",
       "2    -0.635118      1    17      47       2  0.066259 -0.489421 -0.179211   \n",
       "3    -1.299617      1     3     133       2 -0.253787 -0.489421 -0.552730   \n",
       "4     1.105197      0    16    2029       1  0.066259  0.565959 -0.090466   \n",
       "...        ...    ...   ...     ...     ...       ...       ...       ...   \n",
       "9100  0.219459      0    23     350       1 -1.213925 -0.489421 -0.063517   \n",
       "9101 -0.480760      0    29     347       1 -0.253787  1.174832 -0.235378   \n",
       "9102  0.495786      0     8     346       1  0.066259 -0.489421 -0.125471   \n",
       "9103 -1.002381      1     7       7       1  0.386305 -0.489421 -0.008804   \n",
       "9104  1.211265      1    12     198       1 -1.213925 -0.489421 -0.429638   \n",
       "\n",
       "        totcst   totmcst  ...  race_asian  race_black  race_hispanic  \\\n",
       "0    -0.337656 -0.274795  ...           0           0              0   \n",
       "1    -0.337656 -0.274795  ...           0           0              0   \n",
       "2    -0.337656 -0.274795  ...           0           0              0   \n",
       "3    -0.337656 -0.274795  ...           0           0              0   \n",
       "4    -0.337656 -0.274795  ...           0           0              0   \n",
       "...        ...       ...  ...         ...         ...            ...   \n",
       "9100  0.116548  0.261135  ...           0           0              0   \n",
       "9101 -0.129578 -0.021128  ...           0           0              0   \n",
       "9102  0.049816  0.235178  ...           0           0              0   \n",
       "9103 -0.337656 -0.274795  ...           0           0              0   \n",
       "9104 -0.425565 -0.305475  ...           0           0              0   \n",
       "\n",
       "      race_other  race_white  race_nan  ca_metastatic  ca_no  ca_yes  ca_nan  \n",
       "0              1           0         0              1      0       0       0  \n",
       "1              0           1         0              0      1       0       0  \n",
       "2              0           1         0              0      1       0       0  \n",
       "3              0           1         0              1      0       0       0  \n",
       "4              0           1         0              0      1       0       0  \n",
       "...          ...         ...       ...            ...    ...     ...     ...  \n",
       "9100           0           1         0              0      1       0       0  \n",
       "9101           0           1         0              0      1       0       0  \n",
       "9102           0           1         0              0      1       0       0  \n",
       "9103           0           1         0              0      0       1       0  \n",
       "9104           0           1         0              0      1       0       0  \n",
       "\n",
       "[9105 rows x 63 columns]"
      ]
     },
     "execution_count": 2,
     "metadata": {},
     "output_type": "execute_result"
    }
   ],
   "source": [
    "df = pd.read_csv('datasets/support2_preprocessed.csv')\n",
    "df"
   ]
  },
  {
   "cell_type": "code",
   "execution_count": 3,
   "id": "8b08fa7d",
   "metadata": {},
   "outputs": [],
   "source": [
    "from measures import kaplan_meier, nelson_aalen"
   ]
  },
  {
   "cell_type": "markdown",
   "id": "9b2f0fe5",
   "metadata": {},
   "source": [
    "# Kaplan-Meier Estimator"
   ]
  },
  {
   "cell_type": "code",
   "execution_count": 4,
   "id": "f8fad14d",
   "metadata": {},
   "outputs": [],
   "source": [
    "t, m, v = kaplan_meier(df['death'].values, df['d.time'].values)"
   ]
  },
  {
   "cell_type": "code",
   "execution_count": 5,
   "id": "1381a5bc",
   "metadata": {},
   "outputs": [
    {
     "data": {
      "image/png": "[encoded data removed]",
      "text/plain": [
       "<Figure size 720x288 with 2 Axes>"
      ]
     },
     "metadata": {
      "needs_background": "light"
     },
     "output_type": "display_data"
    }
   ],
   "source": [
    "fig, ax = plt.subplots(ncols=2, nrows=1, figsize=(10, 4))\n",
    "\n",
    "ax[0].plot(t, m)\n",
    "ax[0].fill_between(t, m - np.sqrt(v), m + np.sqrt(v), alpha=.5)\n",
    "ax[0].set_title('Kaplan-Meier Estimator')\n",
    "\n",
    "ax[1].plot(t, 1 - m)\n",
    "ax[1].set_title('KM-based CDF')\n",
    "\n",
    "plt.show()"
   ]
  },
  {
   "cell_type": "markdown",
   "id": "cdf6f09a",
   "metadata": {},
   "source": [
    "# Nelson-Aalen Estimator"
   ]
  },
  {
   "cell_type": "code",
   "execution_count": 6,
   "id": "bec2fe4c",
   "metadata": {},
   "outputs": [],
   "source": [
    "t, m, v = nelson_aalen(df['death'].values, df['d.time'].values)"
   ]
  },
  {
   "cell_type": "code",
   "execution_count": 7,
   "id": "0e168e76",
   "metadata": {},
   "outputs": [
    {
     "data": {
      "image/png": "[encoded data removed]",
      "text/plain": [
       "<Figure size 720x288 with 2 Axes>"
      ]
     },
     "metadata": {
      "needs_background": "light"
     },
     "output_type": "display_data"
    }
   ],
   "source": [
    "fig, ax = plt.subplots(ncols=2, nrows=1, figsize=(10, 4))\n",
    "\n",
    "ax[0].plot(t, m)\n",
    "ax[0].fill_between(t, m - np.sqrt(v), m + np.sqrt(v), alpha=.5)\n",
    "ax[0].set_title('Nelson-Aalen Estimator')\n",
    "\n",
    "ax[1].plot(t, 1 - np.exp(-1 * m))\n",
    "ax[1].set_title('NA-based CDF')\n",
    "\n",
    "plt.show()"
   ]
  },
  {
   "cell_type": "code",
   "execution_count": 8,
   "id": "832e4309",
   "metadata": {},
   "outputs": [],
   "source": [
    "s_train = df['death'][:7000].values\n",
    "s_test = df['death'][7000:].values\n",
    "\n",
    "t_train = df['d.time'][:7000].values\n",
    "t_test = df['d.time'][7000:].values"
   ]
  },
  {
   "cell_type": "code",
   "execution_count": 9,
   "metadata": {},
   "outputs": [],
   "source": [
    "def interpolate(x, y, new_x):\n",
    "    s = pd.Series(data=y, index=x)\n",
    "    new_y = s.reindex(s.index.union(new_x)).interpolate()[new_x].values\n",
    "    return new_y"
   ]
  },
  {
   "cell_type": "code",
   "execution_count": 18,
   "metadata": {},
   "outputs": [],
   "source": [
    "t_new = np.random.rand(100) * 2100 - 30\n",
    "t_new = np.array(list(t_new) + list(np.random.choice(t, 20)))\n",
    "m_new = interpolate(t, m, t_new)"
   ]
  },
  {
   "cell_type": "code",
   "execution_count": 19,
   "id": "61888b02",
   "metadata": {},
   "outputs": [
    {
     "data": {
      "text/plain": [
       "20"
      ]
     },
     "execution_count": 19,
     "metadata": {},
     "output_type": "execute_result"
    }
   ],
   "source": [
    "len(set(t_new) & set(t))"
   ]
  },
  {
   "cell_type": "code",
   "execution_count": 23,
   "id": "292df3de",
   "metadata": {},
   "outputs": [
    {
     "data": {
      "text/plain": [
       "(2037.6247045821874, 2029, -15.67468184372472, 3)"
      ]
     },
     "execution_count": 23,
     "metadata": {},
     "output_type": "execute_result"
    }
   ],
   "source": [
    "max(t_new), max(t), min(t_new), min(t)"
   ]
  },
  {
   "cell_type": "code",
   "execution_count": 26,
   "id": "e2f3d44b",
   "metadata": {},
   "outputs": [
    {
     "data": {
      "text/plain": [
       "(120, 120)"
      ]
     },
     "execution_count": 26,
     "metadata": {},
     "output_type": "execute_result"
    }
   ],
   "source": [
    "len(t_new), len(m_new)"
   ]
  },
  {
   "cell_type": "code",
   "execution_count": 24,
   "metadata": {},
   "outputs": [
    {
     "data": {
      "image/png": "[encoded data removed]",
      "text/plain": [
       "<Figure size 432x288 with 1 Axes>"
      ]
     },
     "metadata": {
      "needs_background": "light"
     },
     "output_type": "display_data"
    }
   ],
   "source": [
    "plt.plot(t, m)\n",
    "plt.scatter(t_new, m_new)\n",
    "plt.show()"
   ]
  },
  {
   "cell_type": "code",
   "execution_count": 59,
   "id": "e86cc9aa",
   "metadata": {},
   "outputs": [
    {
     "name": "stderr",
     "output_type": "stream",
     "text": [
      "/Users/mme/projects/tte-performance/measures.py:55: RuntimeWarning: divide by zero encountered in true_divide\n",
      "  v = (m ** 2) * np.cumsum(d / (n * (n - d)))\n",
      "/Users/mme/projects/tte-performance/measures.py:55: RuntimeWarning: invalid value encountered in multiply\n",
      "  v = (m ** 2) * np.cumsum(d / (n * (n - d)))\n"
     ]
    }
   ],
   "source": [
    "t, m, _ = kaplan_meier(1 - s_train, t_train)\n",
    "m = 1 - m\n",
    "\n",
    "s = pd.Series(data=m, index=t)\n",
    "pc = s.reindex(s.index.union(t_test)).interpolate()[t_test].values"
   ]
  },
  {
   "cell_type": "code",
   "execution_count": 60,
   "id": "a2b2c4dd",
   "metadata": {},
   "outputs": [
    {
     "data": {
      "image/png": "[encoded data removed]",
      "text/plain": [
       "<Figure size 432x288 with 1 Axes>"
      ]
     },
     "metadata": {
      "needs_background": "light"
     },
     "output_type": "display_data"
    }
   ],
   "source": [
    "plt.plot(t, m)\n",
    "plt.show()"
   ]
  },
  {
   "cell_type": "code",
   "execution_count": 64,
   "id": "5b934355",
   "metadata": {},
   "outputs": [
    {
     "data": {
      "text/plain": [
       "(1624, 1624, 1624, 0, 0)"
      ]
     },
     "execution_count": 64,
     "metadata": {},
     "output_type": "execute_result"
    }
   ],
   "source": [
    "len(np.unique(t_train)), len(t), len(m), np.isnan(m).sum(), np.isnan(t).sum()"
   ]
  },
  {
   "cell_type": "code",
   "execution_count": 71,
   "id": "5da15d6c",
   "metadata": {},
   "outputs": [
    {
     "data": {
      "text/plain": [
       "(1624, 2105, 3729, 1624, 933, 1724, 833)"
      ]
     },
     "execution_count": 71,
     "metadata": {},
     "output_type": "execute_result"
    }
   ],
   "source": [
    "len(t), len(t_test), len(t) + len(t_test), len(set(t)), len(set(t_test)), len(set(t) | set(t_test)), len(set(t) & set(t_test))"
   ]
  },
  {
   "cell_type": "code",
   "execution_count": 69,
   "id": "d451dab5",
   "metadata": {},
   "outputs": [
    {
     "data": {
      "text/plain": [
       "(1624, 1624)"
      ]
     },
     "execution_count": 69,
     "metadata": {},
     "output_type": "execute_result"
    }
   ],
   "source": [
    "len(s), len(t)"
   ]
  },
  {
   "cell_type": "code",
   "execution_count": 73,
   "id": "ef73a1dd",
   "metadata": {},
   "outputs": [
    {
     "data": {
      "text/plain": [
       "1724"
      ]
     },
     "execution_count": 73,
     "metadata": {},
     "output_type": "execute_result"
    }
   ],
   "source": [
    "len(s.index.union(t_test).unique())"
   ]
  },
  {
   "cell_type": "code",
   "execution_count": 75,
   "id": "aabde53c",
   "metadata": {},
   "outputs": [
    {
     "data": {
      "text/plain": [
       "2105"
      ]
     },
     "execution_count": 75,
     "metadata": {},
     "output_type": "execute_result"
    }
   ],
   "source": [
    "len(s.reindex(s.index.union(t_test).unique()).interpolate()[t_test])"
   ]
  },
  {
   "cell_type": "code",
   "execution_count": 53,
   "id": "98dd3efe",
   "metadata": {},
   "outputs": [
    {
     "data": {
      "text/plain": [
       "(204, 0.0)"
      ]
     },
     "execution_count": 53,
     "metadata": {},
     "output_type": "execute_result"
    }
   ],
   "source": [
    "idx = 200\n",
    "t[idx], m[idx]"
   ]
  },
  {
   "cell_type": "code",
   "execution_count": 46,
   "id": "2655f451",
   "metadata": {},
   "outputs": [
    {
     "data": {
      "text/plain": [
       "array([ 27,  86,   5, ..., 346,   7, 198])"
      ]
     },
     "execution_count": 46,
     "metadata": {},
     "output_type": "execute_result"
    }
   ],
   "source": [
    "t_test"
   ]
  },
  {
   "cell_type": "code",
   "execution_count": 41,
   "id": "ba4c0705",
   "metadata": {},
   "outputs": [
    {
     "data": {
      "text/plain": [
       "2105"
      ]
     },
     "execution_count": 41,
     "metadata": {},
     "output_type": "execute_result"
    }
   ],
   "source": [
    "len(t_test)"
   ]
  },
  {
   "cell_type": "code",
   "execution_count": 42,
   "id": "5366ebc6",
   "metadata": {},
   "outputs": [
    {
     "data": {
      "text/plain": [
       "array([0.        , 0.        , 0.        , ..., 0.00194028, 0.        ,\n",
       "       0.        ])"
      ]
     },
     "execution_count": 42,
     "metadata": {},
     "output_type": "execute_result"
    }
   ],
   "source": [
    "pc"
   ]
  },
  {
   "cell_type": "code",
   "execution_count": null,
   "id": "444ff19f",
   "metadata": {},
   "outputs": [],
   "source": []
  }
 ],
 "metadata": {
  "kernelspec": {
   "display_name": "Python 3",
   "language": "python",
   "name": "python3"
  },
  "language_info": {
   "codemirror_mode": {
    "name": "ipython",
    "version": 3
   },
   "file_extension": ".py",
   "mimetype": "text/x-python",
   "name": "python",
   "nbconvert_exporter": "python",
   "pygments_lexer": "ipython3",
   "version": "3.7.4"
  }
 },
 "nbformat": 4,
 "nbformat_minor": 5
}
